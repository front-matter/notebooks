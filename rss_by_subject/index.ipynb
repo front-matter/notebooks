{
 "cells": [
  {
   "cell_type": "markdown",
   "id": "fa9be934-f925-4c44-b4be-a1ffb843dbba",
   "metadata": {},
   "source": [
    "# Atom feed of tweeted new preprints by subject area\n",
    "\n",
    "Preprints published in the past seven days tweeted at least three times as atom feed, grouped by subject area."
   ]
  },
  {
   "cell_type": "code",
   "execution_count": 1,
   "id": "3589140a-393f-41f3-bb75-c120bfe6932d",
   "metadata": {},
   "outputs": [],
   "source": [
    "import sys\n",
    "sys.path.append('../')\n",
    "\n",
    "import ast\n",
    "import pandas as pd\n",
    "from datetime import datetime, date\n",
    "from feedgen.feed import FeedGenerator"
   ]
  },
  {
   "cell_type": "code",
   "execution_count": 2,
   "id": "1f5f5af7-0bdb-4428-ac9c-7964995a3a3e",
   "metadata": {},
   "outputs": [
    {
     "name": "stdout",
     "output_type": "stream",
     "text": [
      "COVID: 19\n",
      "Medical and Health Sciences: 1\n",
      "Bioinformatics: 3\n",
      "Biochemistry and Cell Biology: 3\n",
      "Cancer: 1\n",
      "Ecology: 1\n",
      "Evolutionary Biology: 1\n",
      "Genetics: 4\n",
      "Microbiology: 4\n",
      "Neurosciences: 5\n",
      "Physiology: 0\n",
      "Plant Biology: 3\n",
      "Zoology: 0\n",
      "Other Biological Sciences: 0\n"
     ]
    },
    {
     "data": {
      "text/html": [
       "<div>\n",
       "<style scoped>\n",
       "    .dataframe tbody tr th:only-of-type {\n",
       "        vertical-align: middle;\n",
       "    }\n",
       "\n",
       "    .dataframe tbody tr th {\n",
       "        vertical-align: top;\n",
       "    }\n",
       "\n",
       "    .dataframe thead th {\n",
       "        text-align: right;\n",
       "    }\n",
       "</style>\n",
       "<table border=\"1\" class=\"dataframe\">\n",
       "  <thead>\n",
       "    <tr style=\"text-align: right;\">\n",
       "      <th></th>\n",
       "      <th>doi</th>\n",
       "      <th>tweets</th>\n",
       "      <th>archive</th>\n",
       "      <th>subject-area</th>\n",
       "      <th>covid</th>\n",
       "      <th>title</th>\n",
       "      <th>authors</th>\n",
       "      <th>abstract</th>\n",
       "      <th>posted</th>\n",
       "    </tr>\n",
       "  </thead>\n",
       "  <tbody>\n",
       "    <tr>\n",
       "      <th>40</th>\n",
       "      <td>10.1101/2021.10.19.21264255</td>\n",
       "      <td>3</td>\n",
       "      <td>medRxiv</td>\n",
       "      <td>Gastroenterology</td>\n",
       "      <td>False</td>\n",
       "      <td>Metabolic Dysfunction Related Liver Disease as...</td>\n",
       "      <td>[{'name': 'Alasdair Taylor'}, {'name': 'Moneez...</td>\n",
       "      <td>&lt;p&gt;The aim of this study was to investigate th...</td>\n",
       "      <td>2021-10-20</td>\n",
       "    </tr>\n",
       "  </tbody>\n",
       "</table>\n",
       "</div>"
      ],
      "text/plain": [
       "                            doi  tweets  archive      subject-area  covid  \\\n",
       "40  10.1101/2021.10.19.21264255       3  medRxiv  Gastroenterology  False   \n",
       "\n",
       "                                                title  \\\n",
       "40  Metabolic Dysfunction Related Liver Disease as...   \n",
       "\n",
       "                                              authors  \\\n",
       "40  [{'name': 'Alasdair Taylor'}, {'name': 'Moneez...   \n",
       "\n",
       "                                             abstract      posted  \n",
       "40  <p>The aim of this study was to investigate th...  2021-10-20  "
      ]
     },
     "execution_count": 2,
     "metadata": {},
     "output_type": "execute_result"
    }
   ],
   "source": [
    "date = str(date.today().strftime('%Y-%m-%d'))\n",
    "subject_areas = ['covid', 'medical_health-sciences', 'bioinformatics', 'biochemistry_cell-biology', 'cancer', 'ecology', 'evolutionary-biology', 'genetics', 'microbiology', 'neurosciences', 'physiology', 'plant-biology', 'zoology','other-biological-sciences']\n",
    "preprints = pd.read_csv('../preprint_tweets/1101/preprint_tweets_' + date + '.csv', index_col=0)\n",
    "\n",
    "# filter by section, and group all COVID-related preprints together\n",
    "subsets = {}\n",
    "subsets['covid'] = preprints[preprints['covid'] == True]\n",
    "print('COVID: ' + str(len(subsets['covid'])))\n",
    "subsets['medical_health-sciences'] = preprints[((preprints['archive'] == 'medRxiv')  | (preprints['subject-area'] == 'Pathology') | (preprints['subject-area'] == 'Pharmacology and Toxicology'))  & (preprints['covid'] == False)]\n",
    "print('Medical and Health Sciences: ' + str(len(subsets['medical_health-sciences'])))\n",
    "subsets['bioinformatics'] = preprints[(preprints['subject-area'] == 'Bioinformatics') & (preprints['covid'] == False)]\n",
    "print('Bioinformatics: ' + str(len(subsets['bioinformatics'])))\n",
    "subsets['biochemistry_cell-biology'] = preprints[((preprints['subject-area'] == 'Biochemistry') | (preprints['subject-area'] == 'Cell Biology') | (preprints['subject-area'] == 'Developmental Biology') | (preprints['subject-area'] == 'Synthetic Biology') | (preprints['subject-area'] == 'Systems Biology') | (preprints['subject-area'] == 'Molecular Biology')) & (preprints['covid'] == False)]\n",
    "print('Biochemistry and Cell Biology: ' + str(len(subsets['biochemistry_cell-biology'])))\n",
    "subsets['ecology'] = preprints[(preprints['subject-area'] == 'Ecology') & (preprints['covid'] == False)]\n",
    "subsets['cancer'] = preprints[((preprints['subject-area'] == 'Cancer Biology') | (preprints['subject-area'] == 'Hematology') | (preprints['subject-area'] == 'Oncology')) & (preprints['covid'] == False)]\n",
    "print('Cancer: ' + str(len(subsets['cancer'])))\n",
    "print('Ecology: ' + str(len(subsets['ecology'])))\n",
    "subsets['evolutionary-biology'] = preprints[(preprints['subject-area'] == 'Evolutionary Biology') & (preprints['covid'] == False)]\n",
    "print('Evolutionary Biology: ' + str(len(subsets['evolutionary-biology'])))\n",
    "subsets['genetics'] = preprints[(preprints['subject-area'] == 'Genetics') | (preprints['subject-area'] == 'Genomics') & (preprints['covid'] == False)]\n",
    "print('Genetics: ' + str(len(subsets['genetics'])))\n",
    "subsets['microbiology'] = preprints[((preprints['subject-area'] == 'Microbiology') | (preprints['subject-area'] == 'Immunology')) & (preprints['covid'] == False)]\n",
    "print('Microbiology: ' + str(len(subsets['microbiology'])))\n",
    "subsets['neurosciences'] = preprints[(preprints['subject-area'] == 'Neuroscience') & (preprints['covid'] == False)]\n",
    "print('Neurosciences: ' + str(len(subsets['neurosciences'])))\n",
    "subsets['physiology'] = preprints[(preprints['subject-area'] == 'Physiology') | (preprints['subject-area'] == 'Biophysics') & (preprints['covid'] == False)]\n",
    "print('Physiology: ' + str(len(subsets['physiology'])))\n",
    "subsets['plant-biology'] = preprints[(preprints['subject-area'] == 'Plant Biology') & (preprints['covid'] == False)]\n",
    "print('Plant Biology: ' + str(len(subsets['plant-biology'])))\n",
    "subsets['zoology'] = preprints[(preprints['subject-area'] == 'Zoology') | (preprints['subject-area'] == 'Animal Behavior and Cognition') & (preprints['covid'] == False)]\n",
    "print('Zoology: ' + str(len(subsets['zoology'])))\n",
    "subsets['other-biological-sciences'] = preprints[(preprints['archive'] != 'medRxiv') & (preprints['subject-area'] != 'Animal Behavior and Cognition') & (preprints['subject-area'] != 'Bioinformatics') & (preprints['subject-area'] != 'Biochemistry') & (preprints['subject-area'] != 'Biophysics') & (preprints['subject-area'] != 'Cancer Biology') & (preprints['subject-area'] != 'Cell Biology') & (preprints['subject-area'] != 'Developmental Biology') & (preprints['subject-area'] != 'Ecology') & (preprints['subject-area'] != 'Evolutionary Biology') & (preprints['subject-area'] != 'Genetics') & (preprints['subject-area'] != 'Genomics') & (preprints['subject-area'] != 'Immunology') & (preprints['subject-area'] != 'Microbiology') & (preprints['subject-area'] != 'Molecular Biology') & (preprints['subject-area'] != 'Neuroscience') & (preprints['subject-area'] != 'Physiology') & (preprints['subject-area'] != 'Plant Biology') & (preprints['subject-area'] != 'Synthetic Biology') & (preprints['subject-area'] != 'Systems Biology') & (preprints['subject-area'] != 'Zoology') & (preprints['covid'] == False)]\n",
    "print('Other Biological Sciences: ' + str(len(subsets['other-biological-sciences'])))\n",
    "subsets['medical_health-sciences'].head(50)"
   ]
  },
  {
   "cell_type": "code",
   "execution_count": 3,
   "id": "debe6570-4501-435c-8a8e-e63fbe16a5eb",
   "metadata": {},
   "outputs": [],
   "source": [
    "\n",
    "for subject_area in subject_areas:\n",
    "    fg = FeedGenerator()\n",
    "    fg.id('https://front-matter.io/')\n",
    "    if subject_area == 'covid':\n",
    "        fg.title(f'Popular BioRxiv/medRxiv COVID preprints posted in the last week')\n",
    "    else:\n",
    "        fg.title(f'Popular {subject_area.replace(\"-\", \" \").replace(\"_\", \" and \")} preprints posted in the last week')\n",
    "    fg.author( {'name':'Martin Fenner','email':'martin@front-matter.io'} )\n",
    "    fg.link( href='https://front-matter.io', rel='alternate' )\n",
    "    fg.link( href=f'https://front-matter.io/{subject_area}/feed.xml', rel='self' )\n",
    "    fg.language('en')\n",
    "\n",
    "    for index, row in subsets[subject_area].iterrows():\n",
    "        fe = fg.add_entry(order='append')\n",
    "        fe.title(row['title'] + f\" ({row['tweets']} tweets)\")\n",
    "        fe.author(ast.literal_eval(row['authors']))\n",
    "        fe.id('https://doi.org/' + row['doi'])\n",
    "        fe.link({'href': 'https://doi.org/' + row['doi'], 'title': row['title'] + f\" ({row['tweets']} tweets)\"})\n",
    "        fe.description(row['abstract'])\n",
    "        fe.category({ 'term': row['subject-area']})\n",
    "        fe.published(datetime.fromisoformat(row['posted'] + 'T00:00:00+00:00'))\n",
    "                 \n",
    "    fg.atom_file(f'{subject_area}/feed.xml')"
   ]
  }
 ],
 "metadata": {
  "kernelspec": {
   "display_name": "Python 3",
   "language": "python",
   "name": "python3"
  },
  "language_info": {
   "codemirror_mode": {
    "name": "ipython",
    "version": 3
   },
   "file_extension": ".py",
   "mimetype": "text/x-python",
   "name": "python",
   "nbconvert_exporter": "python",
   "pygments_lexer": "ipython3",
   "version": "3.8.8"
  }
 },
 "nbformat": 4,
 "nbformat_minor": 5
}

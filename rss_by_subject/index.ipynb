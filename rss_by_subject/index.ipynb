{
 "cells": [
  {
   "cell_type": "markdown",
   "id": "fa9be934-f925-4c44-b4be-a1ffb843dbba",
   "metadata": {},
   "source": [
    "# Atom feed of highly tweeted new preprints by subject area\n",
    "\n",
    "Preprints published in the past seven days tweeted at least five times as atom feed, grouped by subject area."
   ]
  },
  {
   "cell_type": "code",
   "execution_count": 25,
   "id": "3589140a-393f-41f3-bb75-c120bfe6932d",
   "metadata": {},
   "outputs": [],
   "source": [
    "import sys\n",
    "sys.path.append('../')\n",
    "\n",
    "import ast\n",
    "import pandas as pd\n",
    "from datetime import datetime, date\n",
    "from feedgen.feed import FeedGenerator"
   ]
  },
  {
   "cell_type": "code",
   "execution_count": 26,
   "id": "1f5f5af7-0bdb-4428-ac9c-7964995a3a3e",
   "metadata": {},
   "outputs": [
    {
     "data": {
      "text/html": [
       "<div>\n",
       "<style scoped>\n",
       "    .dataframe tbody tr th:only-of-type {\n",
       "        vertical-align: middle;\n",
       "    }\n",
       "\n",
       "    .dataframe tbody tr th {\n",
       "        vertical-align: top;\n",
       "    }\n",
       "\n",
       "    .dataframe thead th {\n",
       "        text-align: right;\n",
       "    }\n",
       "</style>\n",
       "<table border=\"1\" class=\"dataframe\">\n",
       "  <thead>\n",
       "    <tr style=\"text-align: right;\">\n",
       "      <th></th>\n",
       "      <th>Unnamed: 0</th>\n",
       "      <th>doi</th>\n",
       "      <th>tweets</th>\n",
       "      <th>archive</th>\n",
       "      <th>subject-area</th>\n",
       "      <th>covid</th>\n",
       "      <th>title</th>\n",
       "      <th>authors</th>\n",
       "      <th>abstract</th>\n",
       "      <th>posted</th>\n",
       "    </tr>\n",
       "  </thead>\n",
       "  <tbody>\n",
       "    <tr>\n",
       "      <th>41</th>\n",
       "      <td>41</td>\n",
       "      <td>10.1101/2021.05.06.442996</td>\n",
       "      <td>8</td>\n",
       "      <td>bioRxiv</td>\n",
       "      <td>Genetics</td>\n",
       "      <td>False</td>\n",
       "      <td>Genome-wide admixture mapping of eGFR and CKD ...</td>\n",
       "      <td>[{'name': 'Andrea R.V.R. Horimoto'}, {'name': ...</td>\n",
       "      <td>&lt;sec&gt;&lt;title&gt;Background&lt;/title&gt;&lt;p&gt;Admixture map...</td>\n",
       "      <td>2021-05-06</td>\n",
       "    </tr>\n",
       "    <tr>\n",
       "      <th>49</th>\n",
       "      <td>49</td>\n",
       "      <td>10.1101/2021.05.07.443118</td>\n",
       "      <td>6</td>\n",
       "      <td>bioRxiv</td>\n",
       "      <td>Genetics</td>\n",
       "      <td>False</td>\n",
       "      <td>Intergenerational adaptations to stress are ev...</td>\n",
       "      <td>[{'name': 'Nick Burton'}, {'name': 'Alexandra ...</td>\n",
       "      <td>&lt;p&gt;Despite reports of parental exposure to str...</td>\n",
       "      <td>2021-05-08</td>\n",
       "    </tr>\n",
       "  </tbody>\n",
       "</table>\n",
       "</div>"
      ],
      "text/plain": [
       "    Unnamed: 0                        doi  tweets  archive subject-area  \\\n",
       "41          41  10.1101/2021.05.06.442996       8  bioRxiv     Genetics   \n",
       "49          49  10.1101/2021.05.07.443118       6  bioRxiv     Genetics   \n",
       "\n",
       "    covid                                              title  \\\n",
       "41  False  Genome-wide admixture mapping of eGFR and CKD ...   \n",
       "49  False  Intergenerational adaptations to stress are ev...   \n",
       "\n",
       "                                              authors  \\\n",
       "41  [{'name': 'Andrea R.V.R. Horimoto'}, {'name': ...   \n",
       "49  [{'name': 'Nick Burton'}, {'name': 'Alexandra ...   \n",
       "\n",
       "                                             abstract      posted  \n",
       "41  <sec><title>Background</title><p>Admixture map...  2021-05-06  \n",
       "49  <p>Despite reports of parental exposure to str...  2021-05-08  "
      ]
     },
     "execution_count": 26,
     "metadata": {},
     "output_type": "execute_result"
    }
   ],
   "source": [
    "subject_areas = ['covid', 'microbiology', 'neuroscience', 'molecular_biology', 'bioinformatics', 'genomics', 'genetics', 'developmental_biology', 'plant_biology', 'evolutionary_biology', 'ecology', 'immunology', 'cancer_biology']\n",
    "preprints = pd.read_csv('../preprint_tweets/1101/preprint_tweets_' + str(date.today().strftime('%Y-%m-%d')) + '.csv')\n",
    "subsets = {}\n",
    "# filter by section, and group all COVID-related preprints together\n",
    "subsets['covid'] = preprints[preprints['covid'] == True]\n",
    "subsets['microbiology'] = preprints[(preprints['subject-area'] == 'Microbiology') & (preprints['covid'] == False)]\n",
    "subsets['neuroscience'] = preprints[(preprints['subject-area'] == 'Neuroscience') & (preprints['covid'] == False)]\n",
    "subsets['molecular_biology'] = preprints[(preprints['subject-area'] == 'Molecular Biology') & (preprints['covid'] == False)]\n",
    "subsets['bioinformatics'] = preprints[(preprints['subject-area'] == 'Bioinformatics') & (preprints['covid'] == False)]\n",
    "subsets['genomics'] = preprints[(preprints['subject-area'] == 'Genomics') & (preprints['covid'] == False)]\n",
    "subsets['genetics'] = preprints[(preprints['subject-area'] == 'Genetics') & (preprints['covid'] == False)]\n",
    "subsets['developmental_biology'] = preprints[(preprints['subject-area'] == 'Developmental Biology') & (preprints['covid'] == False)]\n",
    "subsets['plant_biology'] = preprints[(preprints['subject-area'] == 'Plant Biology') & (preprints['covid'] == False)]\n",
    "subsets['evolutionary_biology'] = preprints[(preprints['subject-area'] == 'Evolutionary Biology') & (preprints['covid'] == False)]\n",
    "subsets['ecology'] = preprints[(preprints['subject-area'] == 'Ecology') & (preprints['covid'] == False)]\n",
    "subsets['immunology'] = preprints[(preprints['subject-area'] == 'Immunology') & (preprints['covid'] == False)]\n",
    "subsets['cancer_biology'] = preprints[(preprints['subject-area'] == 'Cancer Biology') & (preprints['covid'] == False)]\n",
    "subsets['genetics'].head(50)"
   ]
  },
  {
   "cell_type": "code",
   "execution_count": 30,
   "id": "debe6570-4501-435c-8a8e-e63fbe16a5eb",
   "metadata": {},
   "outputs": [],
   "source": [
    "\n",
    "for subject_area in subject_areas:\n",
    "    fg = FeedGenerator()\n",
    "    fg.id('https://front-matter.io/')\n",
    "    if subject_area == 'covid':\n",
    "        fg.title(f'BioRxiv or medRxiv preprints about COVID posted in the last week with at least 5 tweets')\n",
    "    else:\n",
    "        fg.title(f'BioRxiv preprints in {subject_area} posted in the last week with at least 5 tweets')\n",
    "    fg.author( {'name':'Martin Fenner','email':'martin@front-matter.io'} )\n",
    "    fg.link( href='https://front-matter.io', rel='alternate' )\n",
    "    fg.link( href=f'https://front-matter.io/{subject_area}/feed.xml', rel='self' )\n",
    "    fg.language('en')\n",
    "\n",
    "    for index, row in subsets[subject_area].iterrows():\n",
    "        fe = fg.add_entry()\n",
    "        fe.title(row['title'] + f\" ({row['tweets']} tweets)\")\n",
    "        fe.author(ast.literal_eval(row['authors']))\n",
    "        fe.id('https://doi.org/' + row['doi'])\n",
    "        fe.description(row['abstract'])\n",
    "        fe.published(datetime.fromisoformat(row['posted'] + 'T00:00:00+00:00'))\n",
    "                 \n",
    "    fg.atom_file(f'{subject_area}/feed.xml')"
   ]
  }
 ],
 "metadata": {
  "kernelspec": {
   "display_name": "Python 3",
   "language": "python",
   "name": "python3"
  },
  "language_info": {
   "codemirror_mode": {
    "name": "ipython",
    "version": 3
   },
   "file_extension": ".py",
   "mimetype": "text/x-python",
   "name": "python",
   "nbconvert_exporter": "python",
   "pygments_lexer": "ipython3",
   "version": "3.9.1"
  }
 },
 "nbformat": 4,
 "nbformat_minor": 5
}

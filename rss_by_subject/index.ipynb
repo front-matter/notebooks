{
 "cells": [
  {
   "cell_type": "markdown",
   "id": "fa9be934-f925-4c44-b4be-a1ffb843dbba",
   "metadata": {},
   "source": [
    "# Atom feed of highly tweeted new preprints by subject area\n",
    "\n",
    "Preprints published in the past seven days tweeted at least five times as atom feed, grouped by subject area."
   ]
  },
  {
   "cell_type": "code",
   "execution_count": null,
   "id": "3589140a-393f-41f3-bb75-c120bfe6932d",
   "metadata": {},
   "outputs": [],
   "source": [
    "import sys\n",
    "sys.path.append('../')\n",
    "\n",
    "import ast\n",
    "import pandas as pd\n",
    "from datetime import datetime, date\n",
    "from feedgen.feed import FeedGenerator"
   ]
  },
  {
   "cell_type": "code",
   "execution_count": null,
   "id": "1f5f5af7-0bdb-4428-ac9c-7964995a3a3e",
   "metadata": {},
   "outputs": [],
   "source": [
    "subject_areas = ['covid', 'microbiology', 'neuroscience', 'molecular_biology', 'bioinformatics', 'genomics', 'genetics', 'developmental_biology', 'plant_biology', 'evolutionary_biology', 'ecology', 'immunology', 'cancer_biology']\n",
    "preprints = pd.read_csv('../preprint_tweets/1101/preprint_tweets_' + str(date.today().strftime('%Y-%m-%d')) + '.csv', index_col=0)\n",
    "\n",
    "# filter by section, and group all COVID-related preprints together\n",
    "subsets = {}\n",
    "subsets['covid'] = preprints[preprints['covid'] == True]\n",
    "subsets['microbiology'] = preprints[(preprints['subject-area'] == 'Microbiology') & (preprints['covid'] == False)]\n",
    "subsets['neuroscience'] = preprints[(preprints['subject-area'] == 'Neuroscience') & (preprints['covid'] == False)]\n",
    "subsets['molecular_biology'] = preprints[(preprints['subject-area'] == 'Molecular Biology') & (preprints['covid'] == False)]\n",
    "subsets['bioinformatics'] = preprints[(preprints['subject-area'] == 'Bioinformatics') & (preprints['covid'] == False)]\n",
    "subsets['genomics'] = preprints[(preprints['subject-area'] == 'Genomics') & (preprints['covid'] == False)]\n",
    "subsets['genetics'] = preprints[(preprints['subject-area'] == 'Genetics') & (preprints['covid'] == False)]\n",
    "subsets['developmental_biology'] = preprints[(preprints['subject-area'] == 'Developmental Biology') & (preprints['covid'] == False)]\n",
    "subsets['plant_biology'] = preprints[(preprints['subject-area'] == 'Plant Biology') & (preprints['covid'] == False)]\n",
    "subsets['evolutionary_biology'] = preprints[(preprints['subject-area'] == 'Evolutionary Biology') & (preprints['covid'] == False)]\n",
    "subsets['ecology'] = preprints[(preprints['subject-area'] == 'Ecology') & (preprints['covid'] == False)]\n",
    "subsets['immunology'] = preprints[(preprints['subject-area'] == 'Immunology') & (preprints['covid'] == False)]\n",
    "subsets['cancer_biology'] = preprints[(preprints['subject-area'] == 'Cancer Biology') & (preprints['covid'] == False)]\n",
    "subsets['genetics'].head(50)"
   ]
  },
  {
   "cell_type": "code",
   "execution_count": null,
   "id": "debe6570-4501-435c-8a8e-e63fbe16a5eb",
   "metadata": {},
   "outputs": [],
   "source": [
    "\n",
    "for subject_area in subject_areas:\n",
    "    fg = FeedGenerator()\n",
    "    fg.id('https://front-matter.io/')\n",
    "    if subject_area == 'covid':\n",
    "        fg.title(f'Popular BioRxiv/medRxiv COVID preprints posted in the last week')\n",
    "    else:\n",
    "        fg.title(f'Popular BioRxiv {subject_area.replace(\"_\", \" \")} preprints posted in the last week')\n",
    "    fg.author( {'name':'Martin Fenner','email':'martin@front-matter.io'} )\n",
    "    fg.link( href='https://front-matter.io', rel='alternate' )\n",
    "    fg.link( href=f'https://front-matter.io/{subject_area}/feed.xml', rel='self' )\n",
    "    fg.language('en')\n",
    "\n",
    "    for index, row in subsets[subject_area].iterrows():\n",
    "        fe = fg.add_entry(order='append')\n",
    "        fe.title(row['title'] + f\" ({row['tweets']} tweets)\")\n",
    "        fe.author(ast.literal_eval(row['authors']))\n",
    "        fe.id('https://doi.org/' + row['doi'])\n",
    "        fe.link({'href': 'https://doi.org/' + row['doi'], 'title': row['title'] + f\" ({row['tweets']} tweets)\"})\n",
    "        fe.description(row['abstract'])\n",
    "        fe.category({ 'term': row['subject-area']})\n",
    "        fe.published(datetime.fromisoformat(row['posted'] + 'T00:00:00+00:00'))\n",
    "                 \n",
    "    fg.atom_file(f'{subject_area}/feed.xml')"
   ]
  },
  {
   "cell_type": "code",
   "execution_count": null,
   "id": "10c0773c-57f1-4c9a-b213-5b9a27a5c106",
   "metadata": {},
   "outputs": [],
   "source": []
  }
 ],
 "metadata": {
  "kernelspec": {
   "display_name": "Python 3",
   "language": "python",
   "name": "python3"
  },
  "language_info": {
   "codemirror_mode": {
    "name": "ipython",
    "version": 3
   },
   "file_extension": ".py",
   "mimetype": "text/x-python",
   "name": "python",
   "nbconvert_exporter": "python",
   "pygments_lexer": "ipython3",
   "version": "3.9.5"
  }
 },
 "nbformat": 4,
 "nbformat_minor": 5
}

{
 "cells": [
  {
   "cell_type": "markdown",
   "metadata": {},
   "source": [
    "# Tweets from biorXiv and medrXiv\n",
    "\n",
    "Find and display events from a single DOI prefix in a specified period of time, and find the most tweeted DOIs.\n",
    "\n",
    "One publisher can generate a large number of events, which need to be retrieved using multiple pages. Use this command to make multiple consecutive queries to get results."
   ]
  },
  {
   "cell_type": "code",
   "execution_count": 25,
   "metadata": {},
   "outputs": [],
   "source": [
    "import sys\n",
    "sys.path.insert(0, '..')\n",
    "\n",
    "import mrced2 # module to run event data queries\n",
    "import os # some file manipulations\n",
    "import math # some number manipulations\n",
    "from IPython.display import Markdown as md # some markdown manipulations\n",
    "from datetime import datetime, timedelta # some date manipulations"
   ]
  },
  {
   "cell_type": "code",
   "execution_count": 26,
   "metadata": {},
   "outputs": [],
   "source": [
    "email = \"martin@front-matter.io\"\n",
    "prefix = \"10.1101\"\n",
    "start_date = (datetime.today() - timedelta(7)).strftime('%Y-%m-%d')\n",
    "end_date = datetime.today().strftime('%Y-%m-%d')"
   ]
  },
  {
   "cell_type": "code",
   "execution_count": 27,
   "metadata": {},
   "outputs": [
    {
     "name": "stdout",
     "output_type": "stream",
     "text": [
      "https://api.eventdata.crossref.org/v1/events?mailto=Anonymous&obj-id.prefix=10.1101&source=twitter&rows=0&from-occurred-date=2021-04-24&until-occurred-date=2021-05-01\n"
     ]
    }
   ],
   "source": [
    "ed = mrced2.eventData(email = email)\n",
    "ed.buildQuery({'obj-id.prefix' : prefix, 'source': 'twitter', 'rows': 0,'from-occurred-date' : start_date, 'until-occurred-date' : end_date})"
   ]
  },
  {
   "cell_type": "code",
   "execution_count": 28,
   "metadata": {},
   "outputs": [
    {
     "name": "stdout",
     "output_type": "stream",
     "text": [
      "Event Data query started...\n",
      "API query complete  200\n",
      "output file written to 1101/tweets.json\n"
     ]
    }
   ],
   "source": [
    "ed.runQuery(retry = 5)"
   ]
  },
  {
   "cell_type": "code",
   "execution_count": 29,
   "metadata": {},
   "outputs": [
    {
     "name": "stdout",
     "output_type": "stream",
     "text": [
      "15377 events found\n"
     ]
    }
   ],
   "source": [
    "pages = math.ceil(ed.events.getHits() / 1000)"
   ]
  },
  {
   "cell_type": "code",
   "execution_count": 30,
   "metadata": {},
   "outputs": [
    {
     "name": "stdout",
     "output_type": "stream",
     "text": [
      "https://api.eventdata.crossref.org/v1/events?mailto=Anonymous&rows=1000&obj-id.prefix=10.1101&source=twitter&from-occurred-date=2021-04-24&until-occurred-date=2021-05-01\n",
      "Event Data query started...\n",
      "API query complete  200\n",
      "output file written to 1101/tweets_0000.json\n",
      "https://api.eventdata.crossref.org/v1/events?mailto=Anonymous&cursor=21787977-9896-43b7-8bdd-11416641b479&rows=1000&obj-id.prefix=10.1101&source=twitter&from-occurred-date=2021-04-24&until-occurred-date=2021-05-01\n",
      "Event Data query started...\n",
      "API query complete  200\n",
      "output file written to 1101/tweets_0001.json\n",
      "https://api.eventdata.crossref.org/v1/events?mailto=Anonymous&cursor=f3600d63-f24a-4700-9cde-785ef0e2af8b&rows=1000&obj-id.prefix=10.1101&source=twitter&from-occurred-date=2021-04-24&until-occurred-date=2021-05-01\n",
      "Event Data query started...\n",
      "API query complete  200\n",
      "output file written to 1101/tweets_0002.json\n",
      "https://api.eventdata.crossref.org/v1/events?mailto=Anonymous&cursor=8f054341-75e3-4185-93a2-7ddc2b31d9b9&rows=1000&obj-id.prefix=10.1101&source=twitter&from-occurred-date=2021-04-24&until-occurred-date=2021-05-01\n",
      "Event Data query started...\n",
      "API query complete  200\n",
      "output file written to 1101/tweets_0003.json\n",
      "https://api.eventdata.crossref.org/v1/events?mailto=Anonymous&cursor=77359a36-776c-46d4-a8d8-833c350003b6&rows=1000&obj-id.prefix=10.1101&source=twitter&from-occurred-date=2021-04-24&until-occurred-date=2021-05-01\n",
      "Event Data query started...\n",
      "API query complete  200\n",
      "output file written to 1101/tweets_0004.json\n",
      "https://api.eventdata.crossref.org/v1/events?mailto=Anonymous&cursor=73c27102-a9bf-47ec-8390-20383250d96b&rows=1000&obj-id.prefix=10.1101&source=twitter&from-occurred-date=2021-04-24&until-occurred-date=2021-05-01\n",
      "Event Data query started...\n",
      "API query complete  200\n",
      "output file written to 1101/tweets_0005.json\n",
      "https://api.eventdata.crossref.org/v1/events?mailto=Anonymous&cursor=e72da827-bfe1-4692-abd9-e18253e8f526&rows=1000&obj-id.prefix=10.1101&source=twitter&from-occurred-date=2021-04-24&until-occurred-date=2021-05-01\n",
      "Event Data query started...\n",
      "API query complete  200\n",
      "output file written to 1101/tweets_0006.json\n",
      "https://api.eventdata.crossref.org/v1/events?mailto=Anonymous&cursor=46554b8a-c707-4960-9fdf-a89089643813&rows=1000&obj-id.prefix=10.1101&source=twitter&from-occurred-date=2021-04-24&until-occurred-date=2021-05-01\n",
      "Event Data query started...\n",
      "API query complete  200\n",
      "output file written to 1101/tweets_0007.json\n",
      "https://api.eventdata.crossref.org/v1/events?mailto=Anonymous&cursor=0d42d2eb-f8cd-4fec-a0a4-5aea75e8768d&rows=1000&obj-id.prefix=10.1101&source=twitter&from-occurred-date=2021-04-24&until-occurred-date=2021-05-01\n",
      "Event Data query started...\n",
      "API query complete  200\n",
      "output file written to 1101/tweets_0008.json\n",
      "https://api.eventdata.crossref.org/v1/events?mailto=Anonymous&cursor=2dcd66ef-1a99-4e68-aa97-901affadfec3&rows=1000&obj-id.prefix=10.1101&source=twitter&from-occurred-date=2021-04-24&until-occurred-date=2021-05-01\n",
      "Event Data query started...\n",
      "API query complete  200\n",
      "output file written to 1101/tweets_0009.json\n",
      "https://api.eventdata.crossref.org/v1/events?mailto=Anonymous&cursor=ec29e037-6639-4ee7-8b10-f50eea358923&rows=1000&obj-id.prefix=10.1101&source=twitter&from-occurred-date=2021-04-24&until-occurred-date=2021-05-01\n",
      "Event Data query started...\n",
      "API query complete  200\n",
      "output file written to 1101/tweets_0010.json\n",
      "https://api.eventdata.crossref.org/v1/events?mailto=Anonymous&cursor=40733f63-2ed4-4d79-9dc2-fb47cb429510&rows=1000&obj-id.prefix=10.1101&source=twitter&from-occurred-date=2021-04-24&until-occurred-date=2021-05-01\n",
      "Event Data query started...\n",
      "API query complete  200\n",
      "output file written to 1101/tweets_0011.json\n",
      "https://api.eventdata.crossref.org/v1/events?mailto=Anonymous&cursor=260331da-1a65-4ae6-8313-50b48914c450&rows=1000&obj-id.prefix=10.1101&source=twitter&from-occurred-date=2021-04-24&until-occurred-date=2021-05-01\n",
      "Event Data query started...\n",
      "API query complete  200\n",
      "output file written to 1101/tweets_0012.json\n",
      "https://api.eventdata.crossref.org/v1/events?mailto=Anonymous&cursor=9cc86de9-2e26-435a-869b-8c1df7269420&rows=1000&obj-id.prefix=10.1101&source=twitter&from-occurred-date=2021-04-24&until-occurred-date=2021-05-01\n",
      "Event Data query started...\n",
      "API query complete  200\n",
      "output file written to 1101/tweets_0013.json\n",
      "https://api.eventdata.crossref.org/v1/events?mailto=Anonymous&cursor=caee1ac7-ec49-4f4d-8d03-49469d631d6d&rows=1000&obj-id.prefix=10.1101&source=twitter&from-occurred-date=2021-04-24&until-occurred-date=2021-05-01\n",
      "Event Data query started...\n",
      "API query complete  200\n",
      "output file written to 1101/tweets_0014.json\n",
      "https://api.eventdata.crossref.org/v1/events?mailto=Anonymous&cursor=e9b3bb18-ee87-4103-abfa-56b8b6edc5cc&rows=1000&obj-id.prefix=10.1101&source=twitter&from-occurred-date=2021-04-24&until-occurred-date=2021-05-01\n",
      "Event Data query started...\n",
      "API query complete  200\n",
      "output file written to 1101/tweets_0015.json\n"
     ]
    }
   ],
   "source": [
    "email = \"martin@front-matter.io\"\n",
    "prefix = \"10.1101\"\n",
    "start_date = (datetime.today() - timedelta(7)).strftime('%Y-%m-%d')\n",
    "end_date = datetime.today().strftime('%Y-%m-%d')\n",
    "\n",
    "# find the all result pages for the search\n",
    "ed = mrced2.eventData(email = email)\n",
    "ed.getAllPages(pages, {'rows': 1000, 'obj-id.prefix' : prefix, 'source': 'twitter', 'from-occurred-date' : start_date, 'until-occurred-date' : end_date}, fileprefix = '1101/tweets_') "
   ]
  },
  {
   "cell_type": "markdown",
   "metadata": {},
   "source": [
    "Initialisation to look at the properties of the results."
   ]
  },
  {
   "cell_type": "code",
   "execution_count": 31,
   "metadata": {},
   "outputs": [
    {
     "name": "stdout",
     "output_type": "stream",
     "text": [
      "failed to load .DS_Store\n",
      "failed to load tweets_sorted.json\n",
      "output file written to 1101/tweets.json\n"
     ]
    }
   ],
   "source": [
    "jd1 = mrced2.eventRecord() # instance of a class to interpret the events\n",
    "files = os.listdir('1101') # get all the filenames\n",
    "\n",
    "jd1.mergeJsons(files, folder = '1101') # load the json event data from multiple files"
   ]
  },
  {
   "cell_type": "markdown",
   "metadata": {},
   "source": [
    "What are the sources of these events?"
   ]
  },
  {
   "cell_type": "code",
   "execution_count": 32,
   "metadata": {
    "scrolled": true
   },
   "outputs": [
    {
     "data": {
      "text/plain": [
       "{'twitter': 15377}"
      ]
     },
     "execution_count": 32,
     "metadata": {},
     "output_type": "execute_result"
    }
   ],
   "source": [
    "jd1.eventHist(\"source_id\")"
   ]
  }
 ],
 "metadata": {
  "kernelspec": {
   "display_name": "Python 3",
   "language": "python",
   "name": "python3"
  },
  "language_info": {
   "codemirror_mode": {
    "name": "ipython",
    "version": 3
   },
   "file_extension": ".py",
   "mimetype": "text/x-python",
   "name": "python",
   "nbconvert_exporter": "python",
   "pygments_lexer": "ipython3",
   "version": "3.9.1"
  },
  "nteract": {
   "version": "0.28.0"
  }
 },
 "nbformat": 4,
 "nbformat_minor": 4
}

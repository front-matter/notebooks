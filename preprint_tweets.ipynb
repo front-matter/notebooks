{
 "cells": [
  {
   "cell_type": "markdown",
   "metadata": {},
   "source": [
    "# Tweets from biorXiv and medrXiv\n",
    "\n",
    "Find and display events from a single DOI prefix in a specified period of time, and find the most tweeted DOIs.\n",
    "\n",
    "One publisher can generate a large number of events, which need to be retrieved using multiple pages. Use this command to make multiple consecutive queries to get results."
   ]
  },
  {
   "cell_type": "code",
   "execution_count": 61,
   "metadata": {},
   "outputs": [],
   "source": [
    "import sys\n",
    "sys.path.insert(0, '..')\n",
    "\n",
    "import pandas # data analysis library\n",
    "import json\n",
    "import mrced2 # module to run event data queries\n",
    "import os # some file manipulations\n",
    "import math # some number manipulations\n",
    "from IPython.display import Markdown as md # some markdown manipulations\n",
    "from datetime import datetime, timedelta # some date manipulations"
   ]
  },
  {
   "cell_type": "code",
   "execution_count": 62,
   "metadata": {},
   "outputs": [],
   "source": [
    "email = \"martin@front-matter.io\"\n",
    "prefix = \"10.1101\"\n",
    "start_date = (datetime.today() - timedelta(7)).strftime('%Y-%m-%d')\n",
    "end_date = datetime.today().strftime('%Y-%m-%d')"
   ]
  },
  {
   "cell_type": "code",
   "execution_count": 63,
   "metadata": {},
   "outputs": [
    {
     "name": "stdout",
     "output_type": "stream",
     "text": [
      "https://api.eventdata.crossref.org/v1/events?mailto=Anonymous&obj-id.prefix=10.1101&source=twitter&rows=0&from-occurred-date=2021-04-24&until-occurred-date=2021-05-01\n"
     ]
    }
   ],
   "source": [
    "ed = mrced2.eventData(email = email)\n",
    "ed.buildQuery({'obj-id.prefix' : prefix, 'source': 'twitter', 'rows': 0,'from-occurred-date' : start_date, 'until-occurred-date' : end_date})"
   ]
  },
  {
   "cell_type": "code",
   "execution_count": 64,
   "metadata": {},
   "outputs": [
    {
     "name": "stdout",
     "output_type": "stream",
     "text": [
      "Event Data query started...\n",
      "API query complete  200\n",
      "output file written to 1101/tweets.json\n"
     ]
    }
   ],
   "source": [
    "ed.runQuery(retry = 5)"
   ]
  },
  {
   "cell_type": "code",
   "execution_count": 65,
   "metadata": {},
   "outputs": [
    {
     "name": "stdout",
     "output_type": "stream",
     "text": [
      "15377 events found\n"
     ]
    }
   ],
   "source": [
    "pages = math.ceil(ed.events.getHits() / 1000)"
   ]
  },
  {
   "cell_type": "code",
   "execution_count": 66,
   "metadata": {},
   "outputs": [
    {
     "name": "stdout",
     "output_type": "stream",
     "text": [
      "https://api.eventdata.crossref.org/v1/events?mailto=Anonymous&rows=1000&obj-id.prefix=10.1101&source=twitter&from-occurred-date=2021-04-24&until-occurred-date=2021-05-01\n",
      "Event Data query started...\n",
      "API query complete  200\n",
      "output file written to 1101/tweets_0000.json\n",
      "https://api.eventdata.crossref.org/v1/events?mailto=Anonymous&cursor=21787977-9896-43b7-8bdd-11416641b479&rows=1000&obj-id.prefix=10.1101&source=twitter&from-occurred-date=2021-04-24&until-occurred-date=2021-05-01\n",
      "Event Data query started...\n",
      "API query complete  200\n",
      "output file written to 1101/tweets_0001.json\n",
      "https://api.eventdata.crossref.org/v1/events?mailto=Anonymous&cursor=f3600d63-f24a-4700-9cde-785ef0e2af8b&rows=1000&obj-id.prefix=10.1101&source=twitter&from-occurred-date=2021-04-24&until-occurred-date=2021-05-01\n",
      "Event Data query started...\n",
      "API query complete  200\n",
      "output file written to 1101/tweets_0002.json\n",
      "https://api.eventdata.crossref.org/v1/events?mailto=Anonymous&cursor=8f054341-75e3-4185-93a2-7ddc2b31d9b9&rows=1000&obj-id.prefix=10.1101&source=twitter&from-occurred-date=2021-04-24&until-occurred-date=2021-05-01\n",
      "Event Data query started...\n",
      "API query complete  200\n",
      "output file written to 1101/tweets_0003.json\n",
      "https://api.eventdata.crossref.org/v1/events?mailto=Anonymous&cursor=77359a36-776c-46d4-a8d8-833c350003b6&rows=1000&obj-id.prefix=10.1101&source=twitter&from-occurred-date=2021-04-24&until-occurred-date=2021-05-01\n",
      "Event Data query started...\n",
      "API query complete  200\n",
      "output file written to 1101/tweets_0004.json\n",
      "https://api.eventdata.crossref.org/v1/events?mailto=Anonymous&cursor=73c27102-a9bf-47ec-8390-20383250d96b&rows=1000&obj-id.prefix=10.1101&source=twitter&from-occurred-date=2021-04-24&until-occurred-date=2021-05-01\n",
      "Event Data query started...\n",
      "API query complete  200\n",
      "output file written to 1101/tweets_0005.json\n",
      "https://api.eventdata.crossref.org/v1/events?mailto=Anonymous&cursor=e72da827-bfe1-4692-abd9-e18253e8f526&rows=1000&obj-id.prefix=10.1101&source=twitter&from-occurred-date=2021-04-24&until-occurred-date=2021-05-01\n",
      "Event Data query started...\n",
      "API query complete  200\n",
      "output file written to 1101/tweets_0006.json\n",
      "https://api.eventdata.crossref.org/v1/events?mailto=Anonymous&cursor=46554b8a-c707-4960-9fdf-a89089643813&rows=1000&obj-id.prefix=10.1101&source=twitter&from-occurred-date=2021-04-24&until-occurred-date=2021-05-01\n",
      "Event Data query started...\n",
      "API query complete  200\n",
      "output file written to 1101/tweets_0007.json\n",
      "https://api.eventdata.crossref.org/v1/events?mailto=Anonymous&cursor=0d42d2eb-f8cd-4fec-a0a4-5aea75e8768d&rows=1000&obj-id.prefix=10.1101&source=twitter&from-occurred-date=2021-04-24&until-occurred-date=2021-05-01\n",
      "Event Data query started...\n",
      "API query complete  200\n",
      "output file written to 1101/tweets_0008.json\n",
      "https://api.eventdata.crossref.org/v1/events?mailto=Anonymous&cursor=2dcd66ef-1a99-4e68-aa97-901affadfec3&rows=1000&obj-id.prefix=10.1101&source=twitter&from-occurred-date=2021-04-24&until-occurred-date=2021-05-01\n",
      "Event Data query started...\n",
      "API query complete  200\n",
      "output file written to 1101/tweets_0009.json\n",
      "https://api.eventdata.crossref.org/v1/events?mailto=Anonymous&cursor=ec29e037-6639-4ee7-8b10-f50eea358923&rows=1000&obj-id.prefix=10.1101&source=twitter&from-occurred-date=2021-04-24&until-occurred-date=2021-05-01\n",
      "Event Data query started...\n",
      "API query complete  200\n",
      "output file written to 1101/tweets_0010.json\n",
      "https://api.eventdata.crossref.org/v1/events?mailto=Anonymous&cursor=40733f63-2ed4-4d79-9dc2-fb47cb429510&rows=1000&obj-id.prefix=10.1101&source=twitter&from-occurred-date=2021-04-24&until-occurred-date=2021-05-01\n",
      "Event Data query started...\n",
      "API query complete  200\n",
      "output file written to 1101/tweets_0011.json\n",
      "https://api.eventdata.crossref.org/v1/events?mailto=Anonymous&cursor=260331da-1a65-4ae6-8313-50b48914c450&rows=1000&obj-id.prefix=10.1101&source=twitter&from-occurred-date=2021-04-24&until-occurred-date=2021-05-01\n",
      "Event Data query started...\n",
      "API query complete  200\n",
      "output file written to 1101/tweets_0012.json\n",
      "https://api.eventdata.crossref.org/v1/events?mailto=Anonymous&cursor=9cc86de9-2e26-435a-869b-8c1df7269420&rows=1000&obj-id.prefix=10.1101&source=twitter&from-occurred-date=2021-04-24&until-occurred-date=2021-05-01\n",
      "Event Data query started...\n",
      "API query complete  200\n",
      "output file written to 1101/tweets_0013.json\n",
      "https://api.eventdata.crossref.org/v1/events?mailto=Anonymous&cursor=caee1ac7-ec49-4f4d-8d03-49469d631d6d&rows=1000&obj-id.prefix=10.1101&source=twitter&from-occurred-date=2021-04-24&until-occurred-date=2021-05-01\n",
      "Event Data query started...\n",
      "API query complete  200\n",
      "output file written to 1101/tweets_0014.json\n",
      "https://api.eventdata.crossref.org/v1/events?mailto=Anonymous&cursor=e9b3bb18-ee87-4103-abfa-56b8b6edc5cc&rows=1000&obj-id.prefix=10.1101&source=twitter&from-occurred-date=2021-04-24&until-occurred-date=2021-05-01\n",
      "Event Data query started...\n",
      "API query complete  200\n",
      "output file written to 1101/tweets_0015.json\n"
     ]
    }
   ],
   "source": [
    "email = \"martin@front-matter.io\"\n",
    "prefix = \"10.1101\"\n",
    "start_date = (datetime.today() - timedelta(7)).strftime('%Y-%m-%d')\n",
    "end_date = datetime.today().strftime('%Y-%m-%d')\n",
    "\n",
    "# find the all result pages for the search\n",
    "ed = mrced2.eventData(email = email)\n",
    "ed.getAllPages(pages, {'rows': 1000, 'obj-id.prefix' : prefix, 'source': 'twitter', 'from-occurred-date' : start_date, 'until-occurred-date' : end_date}, fileprefix = '1101/tweets_') "
   ]
  },
  {
   "cell_type": "markdown",
   "metadata": {},
   "source": [
    "Initialisation to look at the properties of the results."
   ]
  },
  {
   "cell_type": "code",
   "execution_count": 67,
   "metadata": {},
   "outputs": [
    {
     "name": "stdout",
     "output_type": "stream",
     "text": [
      "failed to load .DS_Store\n",
      "failed to load .gitkeep\n",
      "failed to load tweets_sorted.json\n",
      "output file written to 1101/tweets.json\n"
     ]
    }
   ],
   "source": [
    "jd1 = mrced2.eventRecord() # instance of a class to interpret the events\n",
    "files = os.listdir('1101') # get all the filenames\n",
    "\n",
    "jd1.mergeJsons(files, folder = '1101') # load the json event data from multiple files"
   ]
  },
  {
   "cell_type": "code",
   "execution_count": 71,
   "metadata": {},
   "outputs": [],
   "source": [
    "js = json.load(open(\"1101/tweets.json\"))\n",
    "df=pandas.json_normalize(js, record_path = ['message', 'events'])\n",
    "# drop columns that are not needed\n",
    "df = df.drop(columns=['license', 'source_token', 'evidence_record', 'terms', 'action', 'relation_type_id','subj.title','subj.pid','subj.url','subj.alternative-id','obj.pid','obj.method','obj.verification'])"
   ]
  },
  {
   "cell_type": "code",
   "execution_count": 72,
   "metadata": {},
   "outputs": [
    {
     "data": {
      "text/html": [
       "<div>\n",
       "<style scoped>\n",
       "    .dataframe tbody tr th:only-of-type {\n",
       "        vertical-align: middle;\n",
       "    }\n",
       "\n",
       "    .dataframe tbody tr th {\n",
       "        vertical-align: top;\n",
       "    }\n",
       "\n",
       "    .dataframe thead th {\n",
       "        text-align: right;\n",
       "    }\n",
       "</style>\n",
       "<table border=\"1\" class=\"dataframe\">\n",
       "  <thead>\n",
       "    <tr style=\"text-align: right;\">\n",
       "      <th></th>\n",
       "      <th>obj_id</th>\n",
       "      <th>occurred_at</th>\n",
       "      <th>subj_id</th>\n",
       "      <th>id</th>\n",
       "      <th>source_id</th>\n",
       "      <th>timestamp</th>\n",
       "      <th>subj.issued</th>\n",
       "      <th>subj.author.url</th>\n",
       "      <th>subj.original-tweet-url</th>\n",
       "      <th>subj.original-tweet-author</th>\n",
       "      <th>obj.url</th>\n",
       "    </tr>\n",
       "  </thead>\n",
       "  <tbody>\n",
       "    <tr>\n",
       "      <th>0</th>\n",
       "      <td>https://doi.org/10.1101/2021.03.04.430128</td>\n",
       "      <td>2021-04-27T23:28:48Z</td>\n",
       "      <td>twitter://status?id=1387187002806833153</td>\n",
       "      <td>9ae7ad64-956b-4102-9e97-05af72eb99b9</td>\n",
       "      <td>twitter</td>\n",
       "      <td>2021-04-28T00:11:36Z</td>\n",
       "      <td>2021-04-27T23:28:48.000Z</td>\n",
       "      <td>twitter://user?screen_name=MakingMoneyFast</td>\n",
       "      <td>twitter://status?id=1387187002806833153</td>\n",
       "      <td>None</td>\n",
       "      <td>https://www.biorxiv.org/content/10.1101/2021.0...</td>\n",
       "    </tr>\n",
       "    <tr>\n",
       "      <th>1</th>\n",
       "      <td>https://doi.org/10.1101/2021.04.27.441512</td>\n",
       "      <td>2021-04-28T00:04:23Z</td>\n",
       "      <td>twitter://status?id=1387195954277888003</td>\n",
       "      <td>fbe49e58-b9c7-4820-a2ae-71017dc49bfa</td>\n",
       "      <td>twitter</td>\n",
       "      <td>2021-04-28T00:11:39Z</td>\n",
       "      <td>2021-04-28T00:04:23.000Z</td>\n",
       "      <td>twitter://user?screen_name=NorthernGlory2</td>\n",
       "      <td>twitter://status?id=1387194686662746116</td>\n",
       "      <td>twitter://user?screen_name=Covid19Crusher</td>\n",
       "      <td>https://www.biorxiv.org/content/10.1101/2021.0...</td>\n",
       "    </tr>\n",
       "    <tr>\n",
       "      <th>2</th>\n",
       "      <td>https://doi.org/10.1101/2021.04.21.21255807</td>\n",
       "      <td>2021-04-27T22:58:27Z</td>\n",
       "      <td>twitter://status?id=1387179364098453504</td>\n",
       "      <td>75e4a2f1-59a4-4e0a-bf58-aaa556947019</td>\n",
       "      <td>twitter</td>\n",
       "      <td>2021-04-28T00:11:39Z</td>\n",
       "      <td>2021-04-27T22:58:27.000Z</td>\n",
       "      <td>twitter://user?screen_name=PietLekkerkerk</td>\n",
       "      <td>twitter://status?id=1387176549657501697</td>\n",
       "      <td>twitter://user?screen_name=mkeulemans</td>\n",
       "      <td>https://www.medrxiv.org/content/10.1101/2021.0...</td>\n",
       "    </tr>\n",
       "    <tr>\n",
       "      <th>3</th>\n",
       "      <td>https://doi.org/10.1101/2021.04.26.441528</td>\n",
       "      <td>2021-04-28T00:04:21Z</td>\n",
       "      <td>twitter://status?id=1387195947336097795</td>\n",
       "      <td>d4d9a64e-a295-459c-8a3e-cc784dddb726</td>\n",
       "      <td>twitter</td>\n",
       "      <td>2021-04-28T00:11:40Z</td>\n",
       "      <td>2021-04-28T00:04:21.000Z</td>\n",
       "      <td>twitter://user?screen_name=AgneeshBarua</td>\n",
       "      <td>twitter://status?id=1387195729672691713</td>\n",
       "      <td>twitter://user?screen_name=SashaMikheyev</td>\n",
       "      <td>https://www.biorxiv.org/content/10.1101/2021.0...</td>\n",
       "    </tr>\n",
       "    <tr>\n",
       "      <th>4</th>\n",
       "      <td>https://doi.org/10.1101/2021.04.23.441128</td>\n",
       "      <td>2021-04-27T22:58:19Z</td>\n",
       "      <td>twitter://status?id=1387179332016041989</td>\n",
       "      <td>559bc6b0-26fb-499c-8b4e-3cefd774210b</td>\n",
       "      <td>twitter</td>\n",
       "      <td>2021-04-28T00:11:43Z</td>\n",
       "      <td>2021-04-27T22:58:19.000Z</td>\n",
       "      <td>twitter://user?screen_name=ivan_skelin</td>\n",
       "      <td>twitter://status?id=1387034052855750664</td>\n",
       "      <td>twitter://user?screen_name=SaxeLab</td>\n",
       "      <td>https://www.biorxiv.org/content/10.1101/2021.0...</td>\n",
       "    </tr>\n",
       "  </tbody>\n",
       "</table>\n",
       "</div>"
      ],
      "text/plain": [
       "                                        obj_id           occurred_at  \\\n",
       "0    https://doi.org/10.1101/2021.03.04.430128  2021-04-27T23:28:48Z   \n",
       "1    https://doi.org/10.1101/2021.04.27.441512  2021-04-28T00:04:23Z   \n",
       "2  https://doi.org/10.1101/2021.04.21.21255807  2021-04-27T22:58:27Z   \n",
       "3    https://doi.org/10.1101/2021.04.26.441528  2021-04-28T00:04:21Z   \n",
       "4    https://doi.org/10.1101/2021.04.23.441128  2021-04-27T22:58:19Z   \n",
       "\n",
       "                                   subj_id  \\\n",
       "0  twitter://status?id=1387187002806833153   \n",
       "1  twitter://status?id=1387195954277888003   \n",
       "2  twitter://status?id=1387179364098453504   \n",
       "3  twitter://status?id=1387195947336097795   \n",
       "4  twitter://status?id=1387179332016041989   \n",
       "\n",
       "                                     id source_id             timestamp  \\\n",
       "0  9ae7ad64-956b-4102-9e97-05af72eb99b9   twitter  2021-04-28T00:11:36Z   \n",
       "1  fbe49e58-b9c7-4820-a2ae-71017dc49bfa   twitter  2021-04-28T00:11:39Z   \n",
       "2  75e4a2f1-59a4-4e0a-bf58-aaa556947019   twitter  2021-04-28T00:11:39Z   \n",
       "3  d4d9a64e-a295-459c-8a3e-cc784dddb726   twitter  2021-04-28T00:11:40Z   \n",
       "4  559bc6b0-26fb-499c-8b4e-3cefd774210b   twitter  2021-04-28T00:11:43Z   \n",
       "\n",
       "                subj.issued                             subj.author.url  \\\n",
       "0  2021-04-27T23:28:48.000Z  twitter://user?screen_name=MakingMoneyFast   \n",
       "1  2021-04-28T00:04:23.000Z   twitter://user?screen_name=NorthernGlory2   \n",
       "2  2021-04-27T22:58:27.000Z   twitter://user?screen_name=PietLekkerkerk   \n",
       "3  2021-04-28T00:04:21.000Z     twitter://user?screen_name=AgneeshBarua   \n",
       "4  2021-04-27T22:58:19.000Z      twitter://user?screen_name=ivan_skelin   \n",
       "\n",
       "                   subj.original-tweet-url  \\\n",
       "0  twitter://status?id=1387187002806833153   \n",
       "1  twitter://status?id=1387194686662746116   \n",
       "2  twitter://status?id=1387176549657501697   \n",
       "3  twitter://status?id=1387195729672691713   \n",
       "4  twitter://status?id=1387034052855750664   \n",
       "\n",
       "                  subj.original-tweet-author  \\\n",
       "0                                       None   \n",
       "1  twitter://user?screen_name=Covid19Crusher   \n",
       "2      twitter://user?screen_name=mkeulemans   \n",
       "3   twitter://user?screen_name=SashaMikheyev   \n",
       "4         twitter://user?screen_name=SaxeLab   \n",
       "\n",
       "                                             obj.url  \n",
       "0  https://www.biorxiv.org/content/10.1101/2021.0...  \n",
       "1  https://www.biorxiv.org/content/10.1101/2021.0...  \n",
       "2  https://www.medrxiv.org/content/10.1101/2021.0...  \n",
       "3  https://www.biorxiv.org/content/10.1101/2021.0...  \n",
       "4  https://www.biorxiv.org/content/10.1101/2021.0...  "
      ]
     },
     "execution_count": 72,
     "metadata": {},
     "output_type": "execute_result"
    }
   ],
   "source": [
    "df.head(5)"
   ]
  }
 ],
 "metadata": {
  "kernelspec": {
   "display_name": "Python 3",
   "language": "python",
   "name": "python3"
  },
  "language_info": {
   "codemirror_mode": {
    "name": "ipython",
    "version": 3
   },
   "file_extension": ".py",
   "mimetype": "text/x-python",
   "name": "python",
   "nbconvert_exporter": "python",
   "pygments_lexer": "ipython3",
   "version": "3.9.1"
  },
  "nteract": {
   "version": "0.28.0"
  }
 },
 "nbformat": 4,
 "nbformat_minor": 4
}
